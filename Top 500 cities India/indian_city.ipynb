{
 "cells": [
  {
   "cell_type": "code",
   "execution_count": 1,
   "metadata": {
    "collapsed": true
   },
   "outputs": [],
   "source": [
    "%matplotlib inline\n",
    "import pandas as pd\n",
    "import matplotlib.pyplot as plt"
   ]
  },
  {
   "cell_type": "code",
   "execution_count": 2,
   "metadata": {
    "collapsed": false
   },
   "outputs": [],
   "source": [
    "#path for the datset file \n",
    "path_data = \"Dataset/cities.csv\"\n",
    "# reading csv file \n",
    "data = pd.read_csv(path_data)\n"
   ]
  },
  {
   "cell_type": "code",
   "execution_count": 3,
   "metadata": {
    "collapsed": false
   },
   "outputs": [
    {
     "data": {
      "text/html": [
       "<div style=\"max-height:1000px;max-width:1500px;overflow:auto;\">\n",
       "<table border=\"1\" class=\"dataframe\">\n",
       "  <thead>\n",
       "    <tr style=\"text-align: right;\">\n",
       "      <th></th>\n",
       "      <th>name_of_city</th>\n",
       "      <th>state_code</th>\n",
       "      <th>state_name</th>\n",
       "      <th>dist_code</th>\n",
       "      <th>population_total</th>\n",
       "      <th>population_male</th>\n",
       "      <th>population_female</th>\n",
       "      <th>0-6_population_total</th>\n",
       "      <th>0-6_population_male</th>\n",
       "      <th>0-6_population_female</th>\n",
       "      <th>...</th>\n",
       "      <th>literates_female</th>\n",
       "      <th>sex_ratio</th>\n",
       "      <th>child_sex_ratio</th>\n",
       "      <th>effective_literacy_rate_total</th>\n",
       "      <th>effective_literacy_rate_male</th>\n",
       "      <th>effective_literacy_rate_female</th>\n",
       "      <th>location</th>\n",
       "      <th>total_graduates</th>\n",
       "      <th>male_graduates</th>\n",
       "      <th>female_graduates</th>\n",
       "    </tr>\n",
       "  </thead>\n",
       "  <tbody>\n",
       "    <tr>\n",
       "      <th>0</th>\n",
       "      <td>    Abohar </td>\n",
       "      <td>  3</td>\n",
       "      <td>         PUNJAB</td>\n",
       "      <td>  9</td>\n",
       "      <td> 145238</td>\n",
       "      <td> 76840</td>\n",
       "      <td> 68398</td>\n",
       "      <td> 15870</td>\n",
       "      <td>  8587</td>\n",
       "      <td>  7283</td>\n",
       "      <td>...</td>\n",
       "      <td> 44972</td>\n",
       "      <td>  890</td>\n",
       "      <td> 848</td>\n",
       "      <td> 79.86</td>\n",
       "      <td> 85.49</td>\n",
       "      <td> 73.59</td>\n",
       "      <td> 30.1452928,74.1993043</td>\n",
       "      <td> 16287</td>\n",
       "      <td>  8612</td>\n",
       "      <td> 7675</td>\n",
       "    </tr>\n",
       "    <tr>\n",
       "      <th>1</th>\n",
       "      <td>  Achalpur </td>\n",
       "      <td> 27</td>\n",
       "      <td>    MAHARASHTRA</td>\n",
       "      <td>  7</td>\n",
       "      <td> 112293</td>\n",
       "      <td> 58256</td>\n",
       "      <td> 54037</td>\n",
       "      <td> 11810</td>\n",
       "      <td>  6186</td>\n",
       "      <td>  5624</td>\n",
       "      <td>...</td>\n",
       "      <td> 43086</td>\n",
       "      <td>  928</td>\n",
       "      <td> 909</td>\n",
       "      <td> 91.99</td>\n",
       "      <td> 94.77</td>\n",
       "      <td> 89.00</td>\n",
       "      <td>  21.257584,77.5086754</td>\n",
       "      <td>  8863</td>\n",
       "      <td>  5269</td>\n",
       "      <td> 3594</td>\n",
       "    </tr>\n",
       "    <tr>\n",
       "      <th>2</th>\n",
       "      <td>  Adilabad </td>\n",
       "      <td> 28</td>\n",
       "      <td> ANDHRA PRADESH</td>\n",
       "      <td>  1</td>\n",
       "      <td> 117388</td>\n",
       "      <td> 59232</td>\n",
       "      <td> 58156</td>\n",
       "      <td> 13103</td>\n",
       "      <td>  6731</td>\n",
       "      <td>  6372</td>\n",
       "      <td>...</td>\n",
       "      <td> 37660</td>\n",
       "      <td>  982</td>\n",
       "      <td> 947</td>\n",
       "      <td> 80.51</td>\n",
       "      <td> 88.18</td>\n",
       "      <td> 72.73</td>\n",
       "      <td>  19.0809075,79.560344</td>\n",
       "      <td> 10565</td>\n",
       "      <td>  6797</td>\n",
       "      <td> 3768</td>\n",
       "    </tr>\n",
       "    <tr>\n",
       "      <th>3</th>\n",
       "      <td> Adityapur </td>\n",
       "      <td> 20</td>\n",
       "      <td>      JHARKHAND</td>\n",
       "      <td> 24</td>\n",
       "      <td> 173988</td>\n",
       "      <td> 91495</td>\n",
       "      <td> 82493</td>\n",
       "      <td> 23042</td>\n",
       "      <td> 12063</td>\n",
       "      <td> 10979</td>\n",
       "      <td>...</td>\n",
       "      <td> 54515</td>\n",
       "      <td>  902</td>\n",
       "      <td> 910</td>\n",
       "      <td> 83.46</td>\n",
       "      <td> 89.98</td>\n",
       "      <td> 76.23</td>\n",
       "      <td> 22.7834741,86.1576889</td>\n",
       "      <td> 19225</td>\n",
       "      <td> 12189</td>\n",
       "      <td> 7036</td>\n",
       "    </tr>\n",
       "    <tr>\n",
       "      <th>4</th>\n",
       "      <td>     Adoni </td>\n",
       "      <td> 28</td>\n",
       "      <td> ANDHRA PRADESH</td>\n",
       "      <td> 21</td>\n",
       "      <td> 166537</td>\n",
       "      <td> 82743</td>\n",
       "      <td> 83794</td>\n",
       "      <td> 18406</td>\n",
       "      <td>  9355</td>\n",
       "      <td>  9051</td>\n",
       "      <td>...</td>\n",
       "      <td> 45089</td>\n",
       "      <td> 1013</td>\n",
       "      <td> 968</td>\n",
       "      <td> 68.38</td>\n",
       "      <td> 76.58</td>\n",
       "      <td> 60.33</td>\n",
       "      <td> 15.6322227,77.2728368</td>\n",
       "      <td> 11902</td>\n",
       "      <td>  7871</td>\n",
       "      <td> 4031</td>\n",
       "    </tr>\n",
       "  </tbody>\n",
       "</table>\n",
       "<p>5 rows × 22 columns</p>\n",
       "</div>"
      ],
      "text/plain": [
       "  name_of_city  state_code      state_name  dist_code  population_total  \\\n",
       "0      Abohar            3          PUNJAB          9            145238   \n",
       "1    Achalpur           27     MAHARASHTRA          7            112293   \n",
       "2    Adilabad           28  ANDHRA PRADESH          1            117388   \n",
       "3   Adityapur           20       JHARKHAND         24            173988   \n",
       "4       Adoni           28  ANDHRA PRADESH         21            166537   \n",
       "\n",
       "   population_male  population_female  0-6_population_total  \\\n",
       "0            76840              68398                 15870   \n",
       "1            58256              54037                 11810   \n",
       "2            59232              58156                 13103   \n",
       "3            91495              82493                 23042   \n",
       "4            82743              83794                 18406   \n",
       "\n",
       "   0-6_population_male  0-6_population_female          ...            \\\n",
       "0                 8587                   7283          ...             \n",
       "1                 6186                   5624          ...             \n",
       "2                 6731                   6372          ...             \n",
       "3                12063                  10979          ...             \n",
       "4                 9355                   9051          ...             \n",
       "\n",
       "   literates_female  sex_ratio  child_sex_ratio  \\\n",
       "0             44972        890              848   \n",
       "1             43086        928              909   \n",
       "2             37660        982              947   \n",
       "3             54515        902              910   \n",
       "4             45089       1013              968   \n",
       "\n",
       "   effective_literacy_rate_total  effective_literacy_rate_male  \\\n",
       "0                          79.86                         85.49   \n",
       "1                          91.99                         94.77   \n",
       "2                          80.51                         88.18   \n",
       "3                          83.46                         89.98   \n",
       "4                          68.38                         76.58   \n",
       "\n",
       "   effective_literacy_rate_female               location  total_graduates  \\\n",
       "0                           73.59  30.1452928,74.1993043            16287   \n",
       "1                           89.00   21.257584,77.5086754             8863   \n",
       "2                           72.73   19.0809075,79.560344            10565   \n",
       "3                           76.23  22.7834741,86.1576889            19225   \n",
       "4                           60.33  15.6322227,77.2728368            11902   \n",
       "\n",
       "  male_graduates  female_graduates  \n",
       "0           8612              7675  \n",
       "1           5269              3594  \n",
       "2           6797              3768  \n",
       "3          12189              7036  \n",
       "4           7871              4031  \n",
       "\n",
       "[5 rows x 22 columns]"
      ]
     },
     "execution_count": 3,
     "metadata": {},
     "output_type": "execute_result"
    }
   ],
   "source": [
    "\n",
    "data.head(5)"
   ]
  },
  {
   "cell_type": "code",
   "execution_count": 4,
   "metadata": {
    "collapsed": false
   },
   "outputs": [
    {
     "data": {
      "text/html": [
       "<div style=\"max-height:1000px;max-width:1500px;overflow:auto;\">\n",
       "<table border=\"1\" class=\"dataframe\">\n",
       "  <thead>\n",
       "    <tr style=\"text-align: right;\">\n",
       "      <th></th>\n",
       "      <th>name_of_city</th>\n",
       "      <th>population_total</th>\n",
       "    </tr>\n",
       "  </thead>\n",
       "  <tbody>\n",
       "    <tr>\n",
       "      <th>185</th>\n",
       "      <td>    Greater Mumbai </td>\n",
       "      <td> 12478447</td>\n",
       "    </tr>\n",
       "    <tr>\n",
       "      <th>141</th>\n",
       "      <td>             Delhi </td>\n",
       "      <td> 11007835</td>\n",
       "    </tr>\n",
       "    <tr>\n",
       "      <th>72 </th>\n",
       "      <td>          Bengaluru</td>\n",
       "      <td>  8425970</td>\n",
       "    </tr>\n",
       "    <tr>\n",
       "      <th>184</th>\n",
       "      <td> Greater Hyderabad </td>\n",
       "      <td>  6809970</td>\n",
       "    </tr>\n",
       "    <tr>\n",
       "      <th>7  </th>\n",
       "      <td>         Ahmadabad </td>\n",
       "      <td>  5570585</td>\n",
       "    </tr>\n",
       "  </tbody>\n",
       "</table>\n",
       "</div>"
      ],
      "text/plain": [
       "           name_of_city  population_total\n",
       "185     Greater Mumbai           12478447\n",
       "141              Delhi           11007835\n",
       "72            Bengaluru           8425970\n",
       "184  Greater Hyderabad            6809970\n",
       "7            Ahmadabad            5570585"
      ]
     },
     "execution_count": 4,
     "metadata": {},
     "output_type": "execute_result"
    }
   ],
   "source": [
    "#extracting top 25 cities in terms of population\n",
    "top_25_populated_city =  data.sort('population_total', ascending=False).head(25)[[\"name_of_city\",\"population_total\"]]\n",
    "top_25_populated_city.head(5)"
   ]
  },
  {
   "cell_type": "code",
   "execution_count": 5,
   "metadata": {
    "collapsed": false
   },
   "outputs": [
    {
     "data": {
      "text/plain": [
       "<matplotlib.axes._subplots.AxesSubplot at 0x7f2e2a8243d0>"
      ]
     },
     "execution_count": 5,
     "metadata": {},
     "output_type": "execute_result"
    },
    {
     "data": {
      "image/png": "[encoded data removed]",
      "text/plain": [
       "<matplotlib.figure.Figure at 0x7f2e2a7f9f90>"
      ]
     },
     "metadata": {},
     "output_type": "display_data"
    }
   ],
   "source": [
    "#plot a bar chart for the city name and population (y lim - 1.3 * 10^7) \n",
    "top_25_populated_city.plot(x = top_25_populated_city[\"name_of_city\"],\n",
    "                           kind='bar', figsize=[19, 8], width=0.5,\n",
    "                           alpha=0.5, color='r', edgecolor='k',\n",
    "                           grid=False, ylim=[0, 13000000])"
   ]
  }
 ],
 "metadata": {
  "kernelspec": {
   "display_name": "Python 2",
   "language": "python",
   "name": "python2"
  },
  "language_info": {
   "codemirror_mode": {
    "name": "ipython",
    "version": 2
   },
   "file_extension": ".py",
   "mimetype": "text/x-python",
   "name": "python",
   "nbconvert_exporter": "python",
   "pygments_lexer": "ipython2",
   "version": "2.7.9"
  }
 },
 "nbformat": 4,
 "nbformat_minor": 0
}
